{
 "cells": [
  {
   "cell_type": "code",
   "execution_count": 7,
   "id": "c7da13cf",
   "metadata": {},
   "outputs": [],
   "source": [
    "import numpy as np\n",
    "import numpy.linalg as nl"
   ]
  },
  {
   "cell_type": "code",
   "execution_count": 10,
   "id": "37cbf5a8",
   "metadata": {},
   "outputs": [
    {
     "name": "stdout",
     "output_type": "stream",
     "text": [
      "\n",
      " Hamiltonian without mu^2/r^3 factor: \n",
      " [[-2  0  0  0]\n",
      " [ 0  2  2  0]\n",
      " [ 0  2  2  0]\n",
      " [ 0  0  0 -2]] \n",
      "\n",
      "Eigenvalues:\n",
      " [ 4.  0. -2. -2.] \n",
      "\n",
      "Eigenvectors(in columns):\n",
      " [[ 0.          0.          1.          0.        ]\n",
      " [ 0.70710678  0.70710678  0.          0.        ]\n",
      " [ 0.70710678 -0.70710678  0.          0.        ]\n",
      " [ 0.          0.          0.          1.        ]] \n",
      "\n"
     ]
    }
   ],
   "source": [
    "nmax=4\n",
    "H = np.zeros((nmax,nmax),float)\n",
    "XAXB = np.array([[0, 0, 0, 1],[0, 0, 1, 0],[0, 1, 0, 0],[1, 0, 0, 0]])\n",
    "YAYB = np.array([[0, 0, 0, -1],[0, 0, 1, 0],[0, 1, 0, 0],[-1, 0, 0, 0]])\n",
    "ZAZB = np.array([[1, 0, 0, 0],[0, -1, 0, 0],[0, 0, -1, 0],[0, 0, 0, 1]])\n",
    "SASB = XAXB + YAYB + ZAZB - 3*ZAZB\n",
    "print('\\n Hamiltonian without mu^2/r^3 factor: \\n', SASB ,'\\n')\n",
    "es , ev = nl.eig(SASB)\n",
    "print('Eigenvalues:\\n', np.round(es,2) ,'\\n')\n",
    "print('Eigenvectors(in columns):\\n' , ev , '\\n' )"
   ]
  },
  {
   "cell_type": "code",
   "execution_count": 11,
   "id": "15b6a633",
   "metadata": {},
   "outputs": [
    {
     "name": "stdout",
     "output_type": "stream",
     "text": [
      " Hamiltonian in Eigenvector Basis: \n",
      "  [[ 4.  0.  0.  0.]\n",
      " [ 0. -2.  0.  0.]\n",
      " [ 0.  0. -2.  0.]\n",
      " [ 0.  0.  0.  0.]]\n"
     ]
    }
   ],
   "source": [
    "phi1 = (ev[0,0], ev[1,0], ev[2,0], ev[3,0]) # Eigenvectors\n",
    "phi4 = (ev[0,1], ev[1,1], ev[2,1], ev[3,1])\n",
    "phi3 = (ev[0,2], ev[1,2], ev[2,2], ev[3,2])\n",
    "phi2 = (ev[0,3], ev[1,3], ev[2,3], ev[3,3])\n",
    "basis=[phi1, phi2 , phi3 , phi4] # List eigenvectors\n",
    "\n",
    "for i in range(0 , nmax): # Hamiltonian in new basis\n",
    "      for j in range(0 , nmax):\n",
    "          term     = np.dot(SASB,basis[i])\n",
    "          H[i , j] = np.round(np.dot(basis[j],term),2)\n",
    "print(\" Hamiltonian in Eigenvector Basis: \\n \" ,H)"
   ]
  },
  {
   "cell_type": "code",
   "execution_count": null,
   "id": "32a144db",
   "metadata": {},
   "outputs": [],
   "source": []
  }
 ],
 "metadata": {
  "kernelspec": {
   "display_name": "Python 3 (ipykernel)",
   "language": "python",
   "name": "python3"
  },
  "language_info": {
   "codemirror_mode": {
    "name": "ipython",
    "version": 3
   },
   "file_extension": ".py",
   "mimetype": "text/x-python",
   "name": "python",
   "nbconvert_exporter": "python",
   "pygments_lexer": "ipython3",
   "version": "3.9.7"
  }
 },
 "nbformat": 4,
 "nbformat_minor": 5
}
